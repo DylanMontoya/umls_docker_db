{
 "cells": [
  {
   "cell_type": "code",
   "execution_count": 1,
   "metadata": {},
   "outputs": [],
   "source": [
    "import pickle\n",
    "import pandas as pd\n",
    "from sqlalchemy import create_engine, text"
   ]
  },
  {
   "cell_type": "code",
   "execution_count": 10,
   "metadata": {},
   "outputs": [],
   "source": [
    "def connect_db(username='root', password='root', host='localhost', port='5432', database='db_umls'):\n",
    "\n",
    "    conn = None\n",
    "    \n",
    "    try:\n",
    "        engine = create_engine(f'postgresql://{username}:{password}@{host}:{port}/{database}')\n",
    "        conn = engine.connect()\n",
    "        \n",
    "        if conn:\n",
    "            print(f'Conectado correctamente a la base de datos: {database}')\n",
    "            \n",
    "    except Exception as e:\n",
    "        print(f'Error al conectar a la base de datos: {e}')\n",
    "        \n",
    "    return conn, engine"
   ]
  },
  {
   "cell_type": "code",
   "execution_count": 11,
   "metadata": {},
   "outputs": [
    {
     "name": "stdout",
     "output_type": "stream",
     "text": [
      "Conectado correctamente a la base de datos: db_umls\n"
     ]
    }
   ],
   "source": [
    "conn, engine = connect_db()"
   ]
  },
  {
   "cell_type": "code",
   "execution_count": 3,
   "metadata": {},
   "outputs": [],
   "source": [
    "def load_pkl(file_path):\n",
    "    try:\n",
    "        with open(file_path, 'rb') as file:\n",
    "            df = pickle.load(file)\n",
    "        print(f\"Successfully loaded '{file_path}' from the file.\")\n",
    "        return df\n",
    "    \n",
    "    except FileNotFoundError:\n",
    "        print(f\"Error: The file '{file_path}' does not exist.\")\n",
    "        \n",
    "    except Exception as e:\n",
    "        print(f\"Error: An exception occurred - {e}\")\n",
    "        return None"
   ]
  },
  {
   "cell_type": "code",
   "execution_count": 4,
   "metadata": {},
   "outputs": [],
   "source": [
    "def poblar_db(engine):\n",
    "\n",
    "    df = load_pkl(file_path='my_vocabulary.pkl')\n",
    "\n",
    "    df.columns = df.columns.str.lower()\n",
    "    \n",
    "    df.to_sql('vocabulary_umls', engine, if_exists='replace', index=False)\n",
    "    \n",
    "    return print('Se cargaron {} registros en la base de datos'.format(len(df)))"
   ]
  },
  {
   "cell_type": "code",
   "execution_count": 5,
   "metadata": {},
   "outputs": [],
   "source": [
    "def execute_poblar():\n",
    "    conn, engine = connect_db()\n",
    "    poblar_db(engine)\n",
    "    \n",
    "    if conn.close:\n",
    "        print('Desconectado correctamente de la db')"
   ]
  },
  {
   "cell_type": "code",
   "execution_count": 6,
   "metadata": {},
   "outputs": [
    {
     "name": "stdout",
     "output_type": "stream",
     "text": [
      "Conectado correctamente a la base de datos\n",
      "Error: An exception occurred - Argument 'placement' has incorrect type (expected pandas._libs.internals.BlockPlacement, got slice)\n"
     ]
    },
    {
     "ename": "AttributeError",
     "evalue": "'NoneType' object has no attribute 'columns'",
     "output_type": "error",
     "traceback": [
      "\u001b[0;31m---------------------------------------------------------------------------\u001b[0m",
      "\u001b[0;31mAttributeError\u001b[0m                            Traceback (most recent call last)",
      "Cell \u001b[0;32mIn[6], line 1\u001b[0m\n\u001b[0;32m----> 1\u001b[0m \u001b[43mexecute_poblar\u001b[49m\u001b[43m(\u001b[49m\u001b[43m)\u001b[49m\n",
      "Cell \u001b[0;32mIn[5], line 3\u001b[0m, in \u001b[0;36mexecute_poblar\u001b[0;34m()\u001b[0m\n\u001b[1;32m      1\u001b[0m \u001b[38;5;28;01mdef\u001b[39;00m \u001b[38;5;21mexecute_poblar\u001b[39m():\n\u001b[1;32m      2\u001b[0m     conn, engine \u001b[38;5;241m=\u001b[39m connect_db()\n\u001b[0;32m----> 3\u001b[0m     \u001b[43mpoblar_db\u001b[49m\u001b[43m(\u001b[49m\u001b[43mengine\u001b[49m\u001b[43m)\u001b[49m\n\u001b[1;32m      5\u001b[0m     \u001b[38;5;28;01mif\u001b[39;00m conn\u001b[38;5;241m.\u001b[39mclose:\n\u001b[1;32m      6\u001b[0m         \u001b[38;5;28mprint\u001b[39m(\u001b[38;5;124m'\u001b[39m\u001b[38;5;124mDesconectado correctamente de la db\u001b[39m\u001b[38;5;124m'\u001b[39m)\n",
      "Cell \u001b[0;32mIn[4], line 5\u001b[0m, in \u001b[0;36mpoblar_db\u001b[0;34m(engine)\u001b[0m\n\u001b[1;32m      1\u001b[0m \u001b[38;5;28;01mdef\u001b[39;00m \u001b[38;5;21mpoblar_db\u001b[39m(engine):\n\u001b[1;32m      3\u001b[0m     df \u001b[38;5;241m=\u001b[39m load_pkl(file_path\u001b[38;5;241m=\u001b[39m\u001b[38;5;124m'\u001b[39m\u001b[38;5;124mmy_vocabulary.pkl\u001b[39m\u001b[38;5;124m'\u001b[39m)\n\u001b[0;32m----> 5\u001b[0m     df\u001b[38;5;241m.\u001b[39mcolumns \u001b[38;5;241m=\u001b[39m \u001b[43mdf\u001b[49m\u001b[38;5;241;43m.\u001b[39;49m\u001b[43mcolumns\u001b[49m\u001b[38;5;241m.\u001b[39mstr\u001b[38;5;241m.\u001b[39mlower()\n\u001b[1;32m      7\u001b[0m     df\u001b[38;5;241m.\u001b[39mto_sql(\u001b[38;5;124m'\u001b[39m\u001b[38;5;124mvocabulary_umls\u001b[39m\u001b[38;5;124m'\u001b[39m, engine, if_exists\u001b[38;5;241m=\u001b[39m\u001b[38;5;124m'\u001b[39m\u001b[38;5;124mreplace\u001b[39m\u001b[38;5;124m'\u001b[39m, index\u001b[38;5;241m=\u001b[39m\u001b[38;5;28;01mFalse\u001b[39;00m)\n\u001b[1;32m      9\u001b[0m     \u001b[38;5;28;01mreturn\u001b[39;00m \u001b[38;5;28mprint\u001b[39m(\u001b[38;5;124m'\u001b[39m\u001b[38;5;124mSe cargaron \u001b[39m\u001b[38;5;132;01m{}\u001b[39;00m\u001b[38;5;124m registros en la base de datos\u001b[39m\u001b[38;5;124m'\u001b[39m\u001b[38;5;241m.\u001b[39mformat(\u001b[38;5;28mlen\u001b[39m(df)))\n",
      "\u001b[0;31mAttributeError\u001b[0m: 'NoneType' object has no attribute 'columns'"
     ]
    }
   ],
   "source": [
    "execute_poblar()"
   ]
  },
  {
   "cell_type": "code",
   "execution_count": 7,
   "metadata": {},
   "outputs": [],
   "source": [
    "def queries_db(query):\n",
    "\n",
    "    conn, engine = connect_db()\n",
    "\n",
    "    if conn:\n",
    "        result = conn.execute(text(query))\n",
    "\n",
    "        # Itera sobre los resultados e imprime cada fila\n",
    "        for row in result:\n",
    "            print(row)\n",
    "\n",
    "        conn.close()  # Cierra la conexión cuando hayas terminado"
   ]
  },
  {
   "cell_type": "code",
   "execution_count": 8,
   "metadata": {},
   "outputs": [
    {
     "name": "stdout",
     "output_type": "stream",
     "text": [
      "Conectado correctamente a la base de datos\n"
     ]
    },
    {
     "name": "stdout",
     "output_type": "stream",
     "text": [
      "('C0018681', 'dolor de cabeza', 'T184', 'sign or symptom')\n",
      "Conectado correctamente a la base de datos\n",
      "('dolor de cabeza', 'sign or symptom')\n"
     ]
    }
   ],
   "source": [
    "query = \"\"\"\n",
    "        SELECT * FROM vocabulary_umls WHERE str = 'dolor de cabeza'\n",
    "        \"\"\"\n",
    "queries_db(query)\n",
    "\n",
    "query = \"\"\"\n",
    "        SELECT str, sty FROM vocabulary_umls WHERE str = 'dolor de cabeza'\n",
    "        \"\"\"\n",
    "queries_db(query)"
   ]
  }
 ],
 "metadata": {
  "kernelspec": {
   "display_name": "base",
   "language": "python",
   "name": "python3"
  },
  "language_info": {
   "codemirror_mode": {
    "name": "ipython",
    "version": 3
   },
   "file_extension": ".py",
   "mimetype": "text/x-python",
   "name": "python",
   "nbconvert_exporter": "python",
   "pygments_lexer": "ipython3",
   "version": "3.9.18"
  },
  "orig_nbformat": 4
 },
 "nbformat": 4,
 "nbformat_minor": 2
}
