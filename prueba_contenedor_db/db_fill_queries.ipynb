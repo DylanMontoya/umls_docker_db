{
 "cells": [
  {
   "cell_type": "code",
   "execution_count": 1,
   "metadata": {},
   "outputs": [],
   "source": [
    "import pickle\n",
    "import pandas as pd\n",
    "from sqlalchemy import create_engine, text"
   ]
  },
  {
   "cell_type": "code",
   "execution_count": 2,
   "metadata": {},
   "outputs": [],
   "source": [
    "def connect_db(username='root', password='root', host='localhost', port='5432', database='db_umls'):\n",
    "\n",
    "    conn = None\n",
    "    \n",
    "    try:\n",
    "        engine = create_engine(f'postgresql://{username}:{password}@{host}:{port}/{database}')\n",
    "        conn = engine.connect()\n",
    "        \n",
    "        if conn:\n",
    "            print(f'Conectado correctamente a la base de datos: {database}')\n",
    "            \n",
    "    except Exception as e:\n",
    "        print(f'Error al conectar a la base de datos: {e}')\n",
    "        \n",
    "    return conn, engine"
   ]
  },
  {
   "cell_type": "code",
   "execution_count": 3,
   "metadata": {},
   "outputs": [
    {
     "name": "stdout",
     "output_type": "stream",
     "text": [
      "Conectado correctamente a la base de datos: db_umls\n"
     ]
    }
   ],
   "source": [
    "conn, engine = connect_db()"
   ]
  },
  {
   "cell_type": "code",
   "execution_count": 4,
   "metadata": {},
   "outputs": [],
   "source": [
    "def load_pkl(file_path):\n",
    "    try:\n",
    "        with open(file_path, 'rb') as file:\n",
    "            df = pickle.load(file)\n",
    "        print(f\"Successfully loaded '{file_path}' from the file.\")\n",
    "        return df\n",
    "    \n",
    "    except FileNotFoundError:\n",
    "        print(f\"Error: The file '{file_path}' does not exist.\")\n",
    "        \n",
    "    except Exception as e:\n",
    "        print(f\"Error: An exception occurred - {e}\")\n",
    "        return None"
   ]
  },
  {
   "cell_type": "code",
   "execution_count": 5,
   "metadata": {},
   "outputs": [],
   "source": [
    "def poblar_db(engine):\n",
    "\n",
    "    df = load_pkl(file_path='my_vocabulary.pkl')\n",
    "\n",
    "    df.columns = df.columns.str.lower()\n",
    "    \n",
    "    df.to_sql('vocabulary_umls', engine, if_exists='replace', index=False)\n",
    "    \n",
    "    return print('Se cargaron {} registros en la base de datos'.format(len(df)))"
   ]
  },
  {
   "cell_type": "code",
   "execution_count": 6,
   "metadata": {},
   "outputs": [],
   "source": [
    "def execute_poblar():\n",
    "    conn, engine = connect_db()\n",
    "    poblar_db(engine)\n",
    "    \n",
    "    if conn.close:\n",
    "        print('Desconectado correctamente de la db')"
   ]
  },
  {
   "cell_type": "code",
   "execution_count": 7,
   "metadata": {},
   "outputs": [
    {
     "name": "stdout",
     "output_type": "stream",
     "text": [
      "Conectado correctamente a la base de datos: db_umls\n",
      "Successfully loaded 'my_vocabulary.pkl' from the file.\n",
      "Se cargaron 932493 registros en la base de datos\n",
      "Desconectado correctamente de la db\n"
     ]
    }
   ],
   "source": [
    "execute_poblar()"
   ]
  },
  {
   "cell_type": "code",
   "execution_count": 8,
   "metadata": {},
   "outputs": [],
   "source": [
    "def queries_db(query):\n",
    "\n",
    "    conn, engine = connect_db()\n",
    "\n",
    "    if conn:\n",
    "        result = conn.execute(text(query))\n",
    "\n",
    "        # Itera sobre los resultados e imprime cada fila\n",
    "        for row in result:\n",
    "            print(row)\n",
    "\n",
    "        conn.close()  # Cierra la conexión cuando hayas terminado"
   ]
  },
  {
   "cell_type": "code",
   "execution_count": 9,
   "metadata": {},
   "outputs": [
    {
     "name": "stdout",
     "output_type": "stream",
     "text": [
      "Conectado correctamente a la base de datos: db_umls\n",
      "('C0018681', 'dolor de cabeza', 'T184', 'sign or symptom')\n",
      "Conectado correctamente a la base de datos: db_umls\n",
      "('dolor de cabeza', 'sign or symptom')\n"
     ]
    }
   ],
   "source": [
    "query = \"\"\"\n",
    "        SELECT * FROM vocabulary_umls WHERE str = 'dolor de cabeza'\n",
    "        \"\"\"\n",
    "queries_db(query)\n",
    "\n",
    "query = \"\"\"\n",
    "        SELECT str, sty FROM vocabulary_umls WHERE str = 'dolor de cabeza'\n",
    "        \"\"\"\n",
    "queries_db(query)"
   ]
  }
 ],
 "metadata": {
  "kernelspec": {
   "display_name": "base",
   "language": "python",
   "name": "python3"
  },
  "language_info": {
   "codemirror_mode": {
    "name": "ipython",
    "version": 3
   },
   "file_extension": ".py",
   "mimetype": "text/x-python",
   "name": "python",
   "nbconvert_exporter": "python",
   "pygments_lexer": "ipython3",
   "version": "3.9.18"
  },
  "orig_nbformat": 4
 },
 "nbformat": 4,
 "nbformat_minor": 2
}
